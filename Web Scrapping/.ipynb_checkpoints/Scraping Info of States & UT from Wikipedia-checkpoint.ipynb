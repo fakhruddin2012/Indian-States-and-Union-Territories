{
 "cells": [
  {
   "cell_type": "code",
   "execution_count": 1,
   "metadata": {},
   "outputs": [],
   "source": [
    "import requests"
   ]
  },
  {
   "cell_type": "code",
   "execution_count": 2,
   "metadata": {},
   "outputs": [],
   "source": [
    "url='https://en.wikipedia.org/wiki/Maharashtra'\n",
    "response=requests.get(url)"
   ]
  },
  {
   "cell_type": "code",
   "execution_count": 3,
   "metadata": {},
   "outputs": [
    {
     "data": {
      "text/plain": [
       "200"
      ]
     },
     "execution_count": 3,
     "metadata": {},
     "output_type": "execute_result"
    }
   ],
   "source": [
    "response.status_code"
   ]
  },
  {
   "cell_type": "code",
   "execution_count": 4,
   "metadata": {},
   "outputs": [
    {
     "name": "stdout",
     "output_type": "stream",
     "text": [
      "<!DOCTYPE html>\n",
      "<html class=\"client-nojs\" lang=\"en\" dir=\"ltr\">\n",
      "<head>\n",
      "<meta charset=\"UTF-8\"/>\n",
      "<title>Maharashtra - Wikipedia</title>\n",
      "<script>document.documentElement.className=\"client-js\";RLCONF={\"wgB\n"
     ]
    }
   ],
   "source": [
    "print(response.text[:200])"
   ]
  },
  {
   "cell_type": "code",
   "execution_count": 5,
   "metadata": {},
   "outputs": [],
   "source": [
    "page=response.text"
   ]
  },
  {
   "cell_type": "code",
   "execution_count": 6,
   "metadata": {},
   "outputs": [
    {
     "data": {
      "text/plain": [
       "str"
      ]
     },
     "execution_count": 6,
     "metadata": {},
     "output_type": "execute_result"
    }
   ],
   "source": [
    "type(page)"
   ]
  },
  {
   "cell_type": "code",
   "execution_count": 7,
   "metadata": {},
   "outputs": [],
   "source": [
    "from bs4 import BeautifulSoup as bs"
   ]
  },
  {
   "cell_type": "code",
   "execution_count": 8,
   "metadata": {},
   "outputs": [],
   "source": [
    "soup=bs(page)"
   ]
  },
  {
   "cell_type": "code",
   "execution_count": 9,
   "metadata": {},
   "outputs": [
    {
     "data": {
      "text/plain": [
       "<h1 class=\"firstHeading\" id=\"firstHeading\" lang=\"en\">Maharashtra</h1>"
      ]
     },
     "execution_count": 9,
     "metadata": {},
     "output_type": "execute_result"
    }
   ],
   "source": [
    "soup.find('h1')"
   ]
  },
  {
   "cell_type": "code",
   "execution_count": 10,
   "metadata": {},
   "outputs": [
    {
     "data": {
      "text/plain": [
       "'Maharashtra'"
      ]
     },
     "execution_count": 10,
     "metadata": {},
     "output_type": "execute_result"
    }
   ],
   "source": [
    "soup.find('h1').text"
   ]
  },
  {
   "cell_type": "markdown",
   "metadata": {},
   "source": [
    "# getting the longitude & Lattiude of Maharashtra"
   ]
  },
  {
   "cell_type": "code",
   "execution_count": 11,
   "metadata": {},
   "outputs": [
    {
     "data": {
      "text/plain": [
       "'18.97°N 72.820°E'"
      ]
     },
     "execution_count": 11,
     "metadata": {},
     "output_type": "execute_result"
    }
   ],
   "source": [
    "soup.find('span',class_='geo-dec').text"
   ]
  },
  {
   "cell_type": "code",
   "execution_count": 12,
   "metadata": {},
   "outputs": [
    {
     "name": "stdout",
     "output_type": "stream",
     "text": [
      "<table class=\"infobox geography vcard\" style=\"width:22em;width:23em\">\n",
      " <tbody>\n",
      "  <tr>\n",
      "   <th colspan=\"2\" style=\"text-align:center;font-size:125%;font-weight:bold;font-size:1.25em; white-space:nowrap\">\n",
      "    <div class=\"fn org\" style=\"display:inline\">\n",
      "     Maharashtra\n",
      "    </div>\n",
      "   </th>\n",
      "  </tr>\n",
      "  <tr>\n",
      "   <td colspan=\"2\" style=\"text-align:center;background-color:#cddeff; font-weight:bold;\">\n",
      "    <div class=\"category\">\n",
      "     <a href=\"/wiki/States_and_union_territories_of_India\" title=\"States and union territories of India\">\n",
      "      State\n",
      "     </a>\n",
      "    </div>\n",
      "   </td>\n",
      "  </tr>\n",
      "  <tr class=\"mergedtoprow\">\n",
      "   <td colspan=\"2\" style=\"text-align:center\">\n",
      "    <div style=\"background-color:white;border-collapse:collapse;border:1px solid white;width:250px;display:table;margin-left: auto; margin-right: auto;\">\n",
      "     <div style=\"display:table-row\">\n",
      "      <div style=\"display:table-cell;border-top:0;padding:1px 0 0 1px\">\n",
      "       <div style=\"display:table;background-color:white;border-collapse:collapse\">\n",
      "        <div style=\"display:table-row\">\n",
      "         <div style=\"display:table-cell;border-top:0;padding:0 1px 1px 0\">\n",
      "          <a class=\"image\" href=\"/wiki/File:Mahabaleshwar_Pratapgad_023.jpg\">\n",
      "           <img alt=\"Mahabaleshwar Pratapgad 023.jpg\" data-file-height=\"1536\" data-file-width=\"2048\" decoding=\"async\" height=\"93\" src=\"//upload.wikimedia.org/wikipedia/commons/thumb/7/7d/Mahabaleshwar_Pratapgad_023.jpg/124px-Mahabaleshwar_Pratapgad_023.jpg\" srcset=\"//upload.wikimedia.org/wikipedia/commons/thumb/7/7d/Mahabaleshwar_Pratapgad_023.jpg/186px-Mahabaleshwar_Pratapgad_023.jpg 1.5x, //upload.wikimedia.org/wikipedia/commons/thumb/7/7d/Mahabaleshwar_Pratapgad_023.jpg/248px-Mahabaleshwar_Pratapgad_023.jpg 2x\" width=\"124\"/>\n",
      "          </a>\n",
      "         </div>\n",
      "         <div style=\"display:table-cell;border-top:0;padding:0 1px 1px 0\">\n",
      "          <a class=\"image\" href=\"/wiki/File:Mumbai_Train_Station.jpg\">\n",
      "           <img alt=\"Mumbai Train Station.jpg\" data-file-height=\"960\" data-file-width=\"1280\" decoding=\"async\" height=\"93\" src=\"//upload.wikimedia.org/wikipedia/commons/thumb/0/09/Mumbai_Train_Station.jpg/124px-Mumbai_Train_Station.jpg\" srcset=\"//upload.wikimedia.org/wikipedia/commons/thumb/0/09/Mumbai_Train_Station.jpg/186px-Mumbai_Train_Station.jpg 1.5x, //upload.wikimedia.org/wikipedia/commons/thumb/0/09/Mumbai_Train_Station.jpg/248px-Mumbai_Train_Station.jpg 2x\" width=\"124\"/>\n",
      "          </a>\n",
      "         </div>\n",
      "        </div>\n",
      "       </div>\n",
      "       <div style=\"display:table;background-color:white;border-collapse:collapse\">\n",
      "        <div style=\"display:table-row\">\n",
      "         <div style=\"display:table-cell;border-top:0;padding:0 1px 1px 0\">\n",
      "          <a class=\"image\" href=\"/wiki/File:Ajanta_Padmapani.jpg\">\n",
      "           <img alt=\"Ajanta Padmapani.jpg\" data-file-height=\"691\" data-file-width=\"457\" decoding=\"async\" height=\"187\" src=\"//upload.wikimedia.org/wikipedia/commons/thumb/c/c5/Ajanta_Padmapani.jpg/124px-Ajanta_Padmapani.jpg\" srcset=\"//upload.wikimedia.org/wikipedia/commons/thumb/c/c5/Ajanta_Padmapani.jpg/186px-Ajanta_Padmapani.jpg 1.5x, //upload.wikimedia.org/wikipedia/commons/thumb/c/c5/Ajanta_Padmapani.jpg/248px-Ajanta_Padmapani.jpg 2x\" width=\"124\"/>\n",
      "          </a>\n",
      "         </div>\n",
      "         <div style=\"display:table-cell;border-top:0;padding:0 1px 1px 0\">\n",
      "          <a class=\"image\" href=\"/wiki/File:1_view_from_rocky_hill_from_which_Kailasha_temple_is_carved,_Ellora_Caves_India.jpg\">\n",
      "           <img alt=\"1 view from rocky hill from which Kailasha temple is carved, Ellora Caves India.jpg\" data-file-height=\"1200\" data-file-width=\"800\" decoding=\"async\" height=\"186\" src=\"//upload.wikimedia.org/wikipedia/commons/thumb/2/22/1_view_from_rocky_hill_from_which_Kailasha_temple_is_carved%2C_Ellora_Caves_India.jpg/124px-1_view_from_rocky_hill_from_which_Kailasha_temple_is_carved%2C_Ellora_Caves_India.jpg\" srcset=\"//upload.wikimedia.org/wikipedia/commons/thumb/2/22/1_view_from_rocky_hill_from_which_Kailasha_temple_is_carved%2C_Ellora_Caves_India.jpg/186px-1_view_from_rocky_hill_from_which_Kailasha_temple_is_carved%2C_Ellora_Caves_India.jpg 1.5x, //upload.wikimedia.org/wikipedia/commons/thumb/2/22/1_view_from_rocky_hill_from_which_Kailasha_temple_is_carved%2C_Ellora_Caves_India.jpg/248px-1_view_from_rocky_hill_from_which_Kailasha_temple_is_carved%2C_Ellora_Caves_India.jpg 2x\" width=\"124\"/>\n",
      "          </a>\n",
      "         </div>\n",
      "        </div>\n",
      "       </div>\n",
      "       <div style=\"display:table;background-color:white;border-collapse:collapse\">\n",
      "        <div style=\"display:table-row\">\n",
      "         <div style=\"display:table-cell;border-top:0;padding:0 1px 1px 0\">\n",
      "          <a class=\"image\" href=\"/wiki/File:Gateway_of_India_at_night.jpg\">\n",
      "           <img alt=\"Gateway of India at night.jpg\" data-file-height=\"2698\" data-file-width=\"4064\" decoding=\"async\" height=\"82\" src=\"//upload.wikimedia.org/wikipedia/commons/thumb/2/2f/Gateway_of_India_at_night.jpg/124px-Gateway_of_India_at_night.jpg\" srcset=\"//upload.wikimedia.org/wikipedia/commons/thumb/2/2f/Gateway_of_India_at_night.jpg/186px-Gateway_of_India_at_night.jpg 1.5x, //upload.wikimedia.org/wikipedia/commons/thumb/2/2f/Gateway_of_India_at_night.jpg/248px-Gateway_of_India_at_night.jpg 2x\" width=\"124\"/>\n",
      "          </a>\n",
      "         </div>\n",
      "         <div style=\"display:table-cell;border-top:0;padding:0 1px 1px 0\">\n",
      "          <a class=\"image\" href=\"/wiki/File:Shiva_Trimurti_@_Elephanta_Caves.jpg\">\n",
      "           <img alt=\"Shiva Trimurti @ Elephanta Caves.jpg\" data-file-height=\"2848\" data-file-width=\"4272\" decoding=\"async\" height=\"83\" src=\"//upload.wikimedia.org/wikipedia/commons/thumb/d/de/Shiva_Trimurti_%40_Elephanta_Caves.jpg/124px-Shiva_Trimurti_%40_Elephanta_Caves.jpg\" srcset=\"//upload.wikimedia.org/wikipedia/commons/thumb/d/de/Shiva_Trimurti_%40_Elephanta_Caves.jpg/186px-Shiva_Trimurti_%40_Elephanta_Caves.jpg 1.5x, //upload.wikimedia.org/wikipedia/commons/thumb/d/de/Shiva_Trimurti_%40_Elephanta_Caves.jpg/248px-Shiva_Trimurti_%40_Elephanta_Caves.jpg 2x\" width=\"124\"/>\n",
      "          </a>\n",
      "         </div>\n",
      "        </div>\n",
      "       </div>\n",
      "       <div style=\"display:table;background-color:white;border-collapse:collapse\">\n",
      "        <div style=\"display:table-row\">\n",
      "         <div style=\"display:table-cell;border-top:0;padding:0 1px 1px 0\">\n",
      "          <a class=\"image\" href=\"/wiki/File:Entrance_to_Shaniwar_wada.jpg\">\n",
      "           <img alt=\"Entrance to Shaniwar wada.jpg\" data-file-height=\"2448\" data-file-width=\"3264\" decoding=\"async\" height=\"93\" src=\"//upload.wikimedia.org/wikipedia/commons/thumb/f/f9/Entrance_to_Shaniwar_wada.jpg/124px-Entrance_to_Shaniwar_wada.jpg\" srcset=\"//upload.wikimedia.org/wikipedia/commons/thumb/f/f9/Entrance_to_Shaniwar_wada.jpg/186px-Entrance_to_Shaniwar_wada.jpg 1.5x, //upload.wikimedia.org/wikipedia/commons/thumb/f/f9/Entrance_to_Shaniwar_wada.jpg/248px-Entrance_to_Shaniwar_wada.jpg 2x\" width=\"124\"/>\n",
      "          </a>\n",
      "         </div>\n",
      "         <div style=\"display:table-cell;border-top:0;padding:0 1px 1px 0\">\n",
      "          <a class=\"image\" href=\"/wiki/File:Hazur_Sahib,_Nanded,_Maharashtra,_September_2012.jpg\">\n",
      "           <img alt=\"Hazur Sahib, Nanded, Maharashtra, September 2012.jpg\" data-file-height=\"3456\" data-file-width=\"4608\" decoding=\"async\" height=\"93\" src=\"//upload.wikimedia.org/wikipedia/commons/thumb/3/3d/Hazur_Sahib%2C_Nanded%2C_Maharashtra%2C_September_2012.jpg/124px-Hazur_Sahib%2C_Nanded%2C_Maharashtra%2C_September_2012.jpg\" srcset=\"//upload.wikimedia.org/wikipedia/commons/thumb/3/3d/Hazur_Sahib%2C_Nanded%2C_Maharashtra%2C_September_2012.jpg/186px-Hazur_Sahib%2C_Nanded%2C_Maharashtra%2C_September_2012.jpg 1.5x, //upload.wikimedia.org/wikipedia/commons/thumb/3/3d/Hazur_Sahib%2C_Nanded%2C_Maharashtra%2C_September_2012.jpg/248px-Hazur_Sahib%2C_Nanded%2C_Maharashtra%2C_September_2012.jpg 2x\" width=\"124\"/>\n",
      "          </a>\n",
      "         </div>\n",
      "        </div>\n",
      "       </div>\n",
      "      </div>\n",
      "     </div>\n",
      "    </div>\n",
      "    <div style=\"font-size:95%\">\n",
      "     <i>\n",
      "      From top, left to right:\n",
      "     </i>\n",
      "     <a href=\"/wiki/Pratapgad\" title=\"Pratapgad\">\n",
      "      Pratapgad\n",
      "     </a>\n",
      "     Fort (near\n",
      "     <a href=\"/wiki/Mahabaleshwar\" title=\"Mahabaleshwar\">\n",
      "      Mahabaleshwar\n",
      "     </a>\n",
      "     ) located in the\n",
      "     <a href=\"/wiki/Western_Ghats\" title=\"Western Ghats\">\n",
      "      Western Ghats\n",
      "     </a>\n",
      "     ,\n",
      "     <a class=\"mw-redirect\" href=\"/wiki/Chhatrapati_Shivaji_Maharaj_Terminus\" title=\"Chhatrapati Shivaji Maharaj Terminus\">\n",
      "      Chhatrapati Shivaji Maharaj Terminus\n",
      "     </a>\n",
      "     , Painting of\n",
      "     <a class=\"mw-redirect\" href=\"/wiki/Padmapani\" title=\"Padmapani\">\n",
      "      Padmapani\n",
      "     </a>\n",
      "     at\n",
      "     <a href=\"/wiki/Ajanta_Caves\" title=\"Ajanta Caves\">\n",
      "      Ajanta Caves\n",
      "     </a>\n",
      "     ,\n",
      "     <a class=\"mw-redirect\" href=\"/wiki/Kailasa_temple,_Ellora\" title=\"Kailasa temple, Ellora\">\n",
      "      Kailasa Temple\n",
      "     </a>\n",
      "     at\n",
      "     <a href=\"/wiki/Ellora_Caves\" title=\"Ellora Caves\">\n",
      "      Ellora Caves\n",
      "     </a>\n",
      "     ,\n",
      "     <a class=\"mw-redirect\" href=\"/wiki/The_Gateway_of_India\" title=\"The Gateway of India\">\n",
      "      The Gateway of India\n",
      "     </a>\n",
      "     ,\n",
      "     <a href=\"/wiki/Trimurti\" title=\"Trimurti\">\n",
      "      Trimurti\n",
      "     </a>\n",
      "     sculpture of\n",
      "     <a href=\"/wiki/Elephanta_Caves\" title=\"Elephanta Caves\">\n",
      "      Elephanta Caves\n",
      "     </a>\n",
      "     ,\n",
      "     <a href=\"/wiki/Shaniwar_Wada\" title=\"Shaniwar Wada\">\n",
      "      Shaniwar Wada\n",
      "     </a>\n",
      "     Fort and\n",
      "     <a class=\"mw-redirect\" href=\"/wiki/Hazur_Sahib_Nanded\" title=\"Hazur Sahib Nanded\">\n",
      "      Hazur Sahib Nanded\n",
      "     </a>\n",
      "    </div>\n",
      "   </td>\n",
      "  </tr>\n",
      "  <tr class=\"mergedtoprow\">\n",
      "   <td class=\"maptable\" colspan=\"2\" style=\"text-align:center\">\n",
      "    <div style=\"display:table; width:100%; background:none;\">\n",
      "     <div style=\"display:table-row\">\n",
      "      <div style=\"display:table-cell;vertical-align:middle; text-align:center;\">\n",
      "       <a class=\"image\" href=\"/wiki/File:Seal_of_Maharashtra.png\" title=\"Emblem of Maharashtra\">\n",
      "        <img alt=\"Emblem of Maharashtra\" data-file-height=\"400\" data-file-width=\"398\" decoding=\"async\" height=\"101\" src=\"//upload.wikimedia.org/wikipedia/commons/thumb/2/26/Seal_of_Maharashtra.png/100px-Seal_of_Maharashtra.png\" srcset=\"//upload.wikimedia.org/wikipedia/commons/thumb/2/26/Seal_of_Maharashtra.png/150px-Seal_of_Maharashtra.png 1.5x, //upload.wikimedia.org/wikipedia/commons/thumb/2/26/Seal_of_Maharashtra.png/200px-Seal_of_Maharashtra.png 2x\" width=\"100\"/>\n",
      "       </a>\n",
      "       <div style=\"padding:0.2em 0 0.2em 0;\">\n",
      "        <a href=\"/wiki/Emblem_of_Maharashtra\" title=\"Emblem of Maharashtra\">\n",
      "         Emblem\n",
      "        </a>\n",
      "       </div>\n",
      "      </div>\n",
      "     </div>\n",
      "    </div>\n",
      "   </td>\n",
      "  </tr>\n",
      "  <tr class=\"mergedtoprow\">\n",
      "   <td colspan=\"2\" style=\"text-align:center\">\n",
      "    <a class=\"image\" href=\"/wiki/File:IN-MH.svg\" title=\"Location of Maharashtra in India\">\n",
      "     <img alt=\"Location of Maharashtra in India\" data-file-height=\"583\" data-file-width=\"512\" decoding=\"async\" height=\"285\" src=\"//upload.wikimedia.org/wikipedia/commons/thumb/1/16/IN-MH.svg/250px-IN-MH.svg.png\" srcset=\"//upload.wikimedia.org/wikipedia/commons/thumb/1/16/IN-MH.svg/375px-IN-MH.svg.png 1.5x, //upload.wikimedia.org/wikipedia/commons/thumb/1/16/IN-MH.svg/500px-IN-MH.svg.png 2x\" width=\"250\"/>\n",
      "    </a>\n",
      "    <div style=\"padding:0.3em 0 0 0;\">\n",
      "     Location of Maharashtra in India\n",
      "    </div>\n",
      "   </td>\n",
      "  </tr>\n",
      "  <tr class=\"mergedbottomrow\">\n",
      "   <td colspan=\"2\" style=\"text-align:center\">\n",
      "    Coordinates (Mumbai):\n",
      "    <style data-mw-deduplicate=\"TemplateStyles:r994658806\">\n",
      "     .mw-parser-output .geo-default,.mw-parser-output .geo-dms,.mw-parser-output .geo-dec{display:inline}.mw-parser-output .geo-nondefault,.mw-parser-output .geo-multi-punct{display:none}.mw-parser-output .longitude,.mw-parser-output .latitude{white-space:nowrap}\n",
      "    </style>\n",
      "    <span class=\"plainlinks nourlexpansion\">\n",
      "     <a class=\"external text\" href=\"//geohack.toolforge.org/geohack.php?pagename=Maharashtra&amp;params=18.97_N_72.82_E_region:IN-MH_type:adm1st\" rel=\"nofollow\">\n",
      "      <span class=\"geo-nondefault\">\n",
      "       <span class=\"geo-dms\" title=\"Maps, aerial photos, and other data for this location\">\n",
      "        <span class=\"latitude\">\n",
      "         18°58′12″N\n",
      "        </span>\n",
      "        <span class=\"longitude\">\n",
      "         72°49′12″E\n",
      "        </span>\n",
      "       </span>\n",
      "      </span>\n",
      "      <span class=\"geo-multi-punct\">\n",
      "       ﻿ / ﻿\n",
      "      </span>\n",
      "      <span class=\"geo-default\">\n",
      "       <span class=\"geo-dec\" title=\"Maps, aerial photos, and other data for this location\">\n",
      "        18.97°N 72.820°E\n",
      "       </span>\n",
      "       <span style=\"display:none\">\n",
      "        ﻿ /\n",
      "        <span class=\"geo\">\n",
      "         18.97; 72.820\n",
      "        </span>\n",
      "       </span>\n",
      "      </span>\n",
      "     </a>\n",
      "    </span>\n",
      "    <span style=\"font-size: small;\">\n",
      "     <span id=\"coordinates\">\n",
      "      <a href=\"/wiki/Geographic_coordinate_system\" title=\"Geographic coordinate system\">\n",
      "       Coordinates\n",
      "      </a>\n",
      "      :\n",
      "      <link href=\"mw-data:TemplateStyles:r994658806\" rel=\"mw-deduplicated-inline-style\"/>\n",
      "      <span class=\"plainlinks nourlexpansion\">\n",
      "       <a class=\"external text\" href=\"//geohack.toolforge.org/geohack.php?pagename=Maharashtra&amp;params=18.97_N_72.82_E_region:IN-MH_type:adm1st\" rel=\"nofollow\">\n",
      "        <span class=\"geo-nondefault\">\n",
      "         <span class=\"geo-dms\" title=\"Maps, aerial photos, and other data for this location\">\n",
      "          <span class=\"latitude\">\n",
      "           18°58′12″N\n",
      "          </span>\n",
      "          <span class=\"longitude\">\n",
      "           72°49′12″E\n",
      "          </span>\n",
      "         </span>\n",
      "        </span>\n",
      "        <span class=\"geo-multi-punct\">\n",
      "         ﻿ / ﻿\n",
      "        </span>\n",
      "        <span class=\"geo-default\">\n",
      "         <span class=\"geo-dec\" title=\"Maps, aerial photos, and other data for this location\">\n",
      "          18.97°N 72.820°E\n",
      "         </span>\n",
      "         <span style=\"display:none\">\n",
      "          ﻿ /\n",
      "          <span class=\"geo\">\n",
      "           18.97; 72.820\n",
      "          </span>\n",
      "         </span>\n",
      "        </span>\n",
      "       </a>\n",
      "      </span>\n",
      "     </span>\n",
      "    </span>\n",
      "   </td>\n",
      "  </tr>\n",
      "  <tr class=\"mergedtoprow\">\n",
      "   <th scope=\"row\">\n",
      "    <a href=\"/wiki/List_of_sovereign_states\" title=\"List of sovereign states\">\n",
      "     Country\n",
      "    </a>\n",
      "   </th>\n",
      "   <td>\n",
      "    <span class=\"flagicon\">\n",
      "     <img alt=\"\" class=\"thumbborder\" data-file-height=\"900\" data-file-width=\"1350\" decoding=\"async\" height=\"15\" src=\"//upload.wikimedia.org/wikipedia/en/thumb/4/41/Flag_of_India.svg/23px-Flag_of_India.svg.png\" srcset=\"//upload.wikimedia.org/wikipedia/en/thumb/4/41/Flag_of_India.svg/35px-Flag_of_India.svg.png 1.5x, //upload.wikimedia.org/wikipedia/en/thumb/4/41/Flag_of_India.svg/45px-Flag_of_India.svg.png 2x\" width=\"23\"/>\n",
      "    </span>\n",
      "    <a href=\"/wiki/India\" title=\"India\">\n",
      "     India\n",
      "    </a>\n",
      "   </td>\n",
      "  </tr>\n",
      "  <tr class=\"mergedtoprow\">\n",
      "   <th scope=\"row\">\n",
      "    Formation\n",
      "   </th>\n",
      "   <td>\n",
      "    1 May 1960\n",
      "    <sup class=\"reference plainlinks nourlexpansion\" id=\"ref_cap\">\n",
      "     <a href=\"#endnote_cap\">\n",
      "      ^\n",
      "     </a>\n",
      "    </sup>\n",
      "    <span class=\"nowrap\">\n",
      "     (\n",
      "     <a href=\"/wiki/Maharashtra_Day\" title=\"Maharashtra Day\">\n",
      "      Maharashtra Day\n",
      "     </a>\n",
      "     )\n",
      "    </span>\n",
      "   </td>\n",
      "  </tr>\n",
      "  <tr class=\"mergedtoprow\">\n",
      "   <th scope=\"row\">\n",
      "    Capitals\n",
      "   </th>\n",
      "   <td>\n",
      "    <a href=\"/wiki/Mumbai\" title=\"Mumbai\">\n",
      "     Mumbai\n",
      "    </a>\n",
      "    <br/>\n",
      "    <a href=\"/wiki/Nagpur\" title=\"Nagpur\">\n",
      "     Nagpur\n",
      "    </a>\n",
      "    (Winter)\n",
      "    <sup class=\"reference\" id=\"cite_ref-1\">\n",
      "     <a href=\"#cite_note-1\">\n",
      "      [1]\n",
      "     </a>\n",
      "    </sup>\n",
      "   </td>\n",
      "  </tr>\n",
      "  <tr class=\"mergedrow\">\n",
      "   <th scope=\"row\">\n",
      "    <a class=\"mw-redirect\" href=\"/wiki/List_of_Indian_districts\" title=\"List of Indian districts\">\n",
      "     Districts\n",
      "    </a>\n",
      "   </th>\n",
      "   <td>\n",
      "    <b>\n",
      "    </b>\n",
      "    <a href=\"/wiki/List_of_districts_of_Maharashtra\" title=\"List of districts of Maharashtra\">\n",
      "     36\n",
      "    </a>\n",
      "   </td>\n",
      "  </tr>\n",
      "  <tr class=\"mergedtoprow\">\n",
      "   <th colspan=\"2\" style=\"text-align:center;text-align:left\">\n",
      "    Government\n",
      "    <div style=\"font-weight:normal;display:inline;\">\n",
      "    </div>\n",
      "   </th>\n",
      "  </tr>\n",
      "  <tr class=\"mergedrow\">\n",
      "   <th scope=\"row\">\n",
      "    • Body\n",
      "   </th>\n",
      "   <td class=\"agent\">\n",
      "    <span class=\"nowrap\">\n",
      "     <a href=\"/wiki/Government_of_Maharashtra\" title=\"Government of Maharashtra\">\n",
      "      Government of Maharashtra\n",
      "     </a>\n",
      "    </span>\n",
      "   </td>\n",
      "  </tr>\n",
      "  <tr class=\"mergedrow\">\n",
      "   <th scope=\"row\">\n",
      "    •\n",
      "    <a class=\"mw-redirect\" href=\"/wiki/Governors_of_Maharashtra\" title=\"Governors of Maharashtra\">\n",
      "     Governor\n",
      "    </a>\n",
      "   </th>\n",
      "   <td>\n",
      "    <a href=\"/wiki/Bhagat_Singh_Koshyari\" title=\"Bhagat Singh Koshyari\">\n",
      "     Bhagat Singh Koshyari\n",
      "    </a>\n",
      "   </td>\n",
      "  </tr>\n",
      "  <tr class=\"mergedrow\">\n",
      "   <th scope=\"row\">\n",
      "    •\n",
      "    <span class=\"nowrap\">\n",
      "     <a class=\"mw-redirect\" href=\"/wiki/List_of_Chief_Ministers_of_Maharashtra\" title=\"List of Chief Ministers of Maharashtra\">\n",
      "      Chief Minister\n",
      "     </a>\n",
      "    </span>\n",
      "   </th>\n",
      "   <td>\n",
      "    <a href=\"/wiki/Uddhav_Thackeray\" title=\"Uddhav Thackeray\">\n",
      "     Uddhav Thackeray\n",
      "    </a>\n",
      "    (\n",
      "    <a href=\"/wiki/Shiv_Sena\" title=\"Shiv Sena\">\n",
      "     SS\n",
      "    </a>\n",
      "    )\n",
      "   </td>\n",
      "  </tr>\n",
      "  <tr class=\"mergedrow\">\n",
      "   <th scope=\"row\">\n",
      "    •\n",
      "    <a href=\"/wiki/List_of_deputy_chief_ministers_of_Maharashtra\" title=\"List of deputy chief ministers of Maharashtra\">\n",
      "     Deputy Chief Minister\n",
      "    </a>\n",
      "   </th>\n",
      "   <td>\n",
      "    <a href=\"/wiki/Ajit_Pawar\" title=\"Ajit Pawar\">\n",
      "     Ajit Pawar\n",
      "    </a>\n",
      "    (\n",
      "    <a href=\"/wiki/Nationalist_Congress_Party\" title=\"Nationalist Congress Party\">\n",
      "     NCP\n",
      "    </a>\n",
      "    )\n",
      "   </td>\n",
      "  </tr>\n",
      "  <tr class=\"mergedrow\">\n",
      "   <th scope=\"row\">\n",
      "    •\n",
      "    <a href=\"/wiki/Maharashtra_Legislative_Assembly\" title=\"Maharashtra Legislative Assembly\">\n",
      "     Legislature\n",
      "    </a>\n",
      "   </th>\n",
      "   <td>\n",
      "    <a class=\"mw-redirect\" href=\"/wiki/Bicameral\" title=\"Bicameral\">\n",
      "     Bicameral\n",
      "    </a>\n",
      "    <ul>\n",
      "     <li>\n",
      "      <a href=\"/wiki/Maharashtra_Legislative_Assembly\" title=\"Maharashtra Legislative Assembly\">\n",
      "       Assembly\n",
      "      </a>\n",
      "      (\n",
      "      <a href=\"/wiki/List_of_constituencies_of_the_Maharashtra_Legislative_Assembly\" title=\"List of constituencies of the Maharashtra Legislative Assembly\">\n",
      "       288 seats\n",
      "      </a>\n",
      "      )\n",
      "     </li>\n",
      "     <li>\n",
      "      <a href=\"/wiki/Maharashtra_Legislative_Council\" title=\"Maharashtra Legislative Council\">\n",
      "       Council\n",
      "      </a>\n",
      "      (78 seats)\n",
      "     </li>\n",
      "    </ul>\n",
      "   </td>\n",
      "  </tr>\n",
      "  <tr class=\"mergedrow\">\n",
      "   <th scope=\"row\">\n",
      "    •\n",
      "    <a href=\"/wiki/Parliament_of_India\" title=\"Parliament of India\">\n",
      "     Parliamentary constituency\n",
      "    </a>\n",
      "   </th>\n",
      "   <td>\n",
      "    <ul>\n",
      "     <li>\n",
      "      <a href=\"/wiki/Rajya_Sabha\" title=\"Rajya Sabha\">\n",
      "       Rajya Sabha\n",
      "      </a>\n",
      "      (\n",
      "      <a href=\"/wiki/List_of_Rajya_Sabha_members_from_Maharashtra\" title=\"List of Rajya Sabha members from Maharashtra\">\n",
      "       19 seats\n",
      "      </a>\n",
      "      )\n",
      "     </li>\n",
      "     <li>\n",
      "      <a href=\"/wiki/Lok_Sabha\" title=\"Lok Sabha\">\n",
      "       Lok Sabha\n",
      "      </a>\n",
      "      (\n",
      "      <a href=\"/wiki/List_of_members_of_the_17th_Lok_Sabha#Maharashtra\" title=\"List of members of the 17th Lok Sabha\">\n",
      "       48 seats\n",
      "      </a>\n",
      "      )\n",
      "     </li>\n",
      "    </ul>\n",
      "   </td>\n",
      "  </tr>\n",
      "  <tr class=\"mergedtoprow\">\n",
      "   <th colspan=\"2\" style=\"text-align:center;text-align:left\">\n",
      "    Area\n",
      "    <div style=\"font-weight:normal;display:inline;\">\n",
      "    </div>\n",
      "   </th>\n",
      "  </tr>\n",
      "  <tr class=\"mergedrow\">\n",
      "   <th scope=\"row\">\n",
      "    • Total\n",
      "   </th>\n",
      "   <td>\n",
      "    307,713 km\n",
      "    <sup>\n",
      "     2\n",
      "    </sup>\n",
      "    (118,809 sq mi)\n",
      "   </td>\n",
      "  </tr>\n",
      "  <tr class=\"mergedrow\">\n",
      "   <th scope=\"row\">\n",
      "    Area rank\n",
      "   </th>\n",
      "   <td>\n",
      "    <a href=\"/wiki/List_of_states_and_union_territories_of_India_by_area\" title=\"List of states and union territories of India by area\">\n",
      "     3rd\n",
      "    </a>\n",
      "   </td>\n",
      "  </tr>\n",
      "  <tr class=\"mergedtoprow\">\n",
      "   <th colspan=\"2\" style=\"text-align:center;text-align:left\">\n",
      "    Population\n",
      "    <div style=\"font-weight:normal;display:inline;\">\n",
      "     <span class=\"nowrap\">\n",
      "     </span>\n",
      "     (2011)\n",
      "     <sup class=\"reference\" id=\"cite_ref-GOI_2011_2-0\">\n",
      "      <a href=\"#cite_note-GOI_2011-2\">\n",
      "       [2]\n",
      "      </a>\n",
      "     </sup>\n",
      "    </div>\n",
      "   </th>\n",
      "  </tr>\n",
      "  <tr class=\"mergedrow\">\n",
      "   <th scope=\"row\">\n",
      "    • Total\n",
      "   </th>\n",
      "   <td>\n",
      "    112,374,333\n",
      "   </td>\n",
      "  </tr>\n",
      "  <tr class=\"mergedrow\">\n",
      "   <th scope=\"row\">\n",
      "    • Rank\n",
      "   </th>\n",
      "   <td>\n",
      "    <a href=\"/wiki/List_of_states_and_union_territories_of_India_by_population\" title=\"List of states and union territories of India by population\">\n",
      "     2nd\n",
      "    </a>\n",
      "   </td>\n",
      "  </tr>\n",
      "  <tr class=\"mergedrow\">\n",
      "   <th scope=\"row\">\n",
      "    • Density\n",
      "   </th>\n",
      "   <td>\n",
      "    370/km\n",
      "    <sup>\n",
      "     2\n",
      "    </sup>\n",
      "    (950/sq mi)\n",
      "   </td>\n",
      "  </tr>\n",
      "  <tr class=\"mergedtoprow\">\n",
      "   <th scope=\"row\">\n",
      "    <a href=\"/wiki/Demonym\" title=\"Demonym\">\n",
      "     Demonym(s)\n",
      "    </a>\n",
      "   </th>\n",
      "   <td>\n",
      "    Maharashtrian\n",
      "   </td>\n",
      "  </tr>\n",
      "  <tr class=\"mergedtoprow\">\n",
      "   <th colspan=\"2\" style=\"text-align:center;text-align:left\">\n",
      "    GSDP\n",
      "    <style data-mw-deduplicate=\"TemplateStyles:r886047488\">\n",
      "     .mw-parser-output .nobold{font-weight:normal}\n",
      "    </style>\n",
      "    <span class=\"nobold\">\n",
      "     (2019–20)\n",
      "    </span>\n",
      "    <div style=\"font-weight:normal;display:inline;\">\n",
      "     <sup class=\"reference\" id=\"cite_ref-MOSPI_3-0\">\n",
      "      <a href=\"#cite_note-MOSPI-3\">\n",
      "       [3]\n",
      "      </a>\n",
      "     </sup>\n",
      "    </div>\n",
      "   </th>\n",
      "  </tr>\n",
      "  <tr class=\"mergedrow\">\n",
      "   <th scope=\"row\">\n",
      "    •\n",
      "    <a href=\"/wiki/List_of_Indian_states_and_union_territories_by_GDP\" title=\"List of Indian states and union territories by GDP\">\n",
      "     Total\n",
      "    </a>\n",
      "   </th>\n",
      "   <td>\n",
      "    <span class=\"nowrap\">\n",
      "     <span style=\"white-space: nowrap\">\n",
      "      <a href=\"/wiki/Indian_rupee\" title=\"Indian rupee\">\n",
      "       ₹\n",
      "      </a>\n",
      "     </span>\n",
      "     28.78 trillion\n",
      "    </span>\n",
      "    (US$400 billion)\n",
      "   </td>\n",
      "  </tr>\n",
      "  <tr class=\"mergedrow\">\n",
      "   <th scope=\"row\">\n",
      "    •\n",
      "    <a href=\"/wiki/List_of_Indian_states_and_union_territories_by_GDP_per_capita\" title=\"List of Indian states and union territories by GDP per capita\">\n",
      "     Per capita\n",
      "    </a>\n",
      "   </th>\n",
      "   <td>\n",
      "    <span class=\"nowrap\">\n",
      "     <span style=\"white-space: nowrap\">\n",
      "      <a href=\"/wiki/Indian_rupee\" title=\"Indian rupee\">\n",
      "       ₹\n",
      "      </a>\n",
      "     </span>\n",
      "     207,727\n",
      "    </span>\n",
      "    (US$2,900)\n",
      "   </td>\n",
      "  </tr>\n",
      "  <tr class=\"mergedtoprow\">\n",
      "   <th scope=\"row\">\n",
      "    <a href=\"/wiki/Time_zone\" title=\"Time zone\">\n",
      "     Time zone\n",
      "    </a>\n",
      "   </th>\n",
      "   <td>\n",
      "    <a href=\"/wiki/UTC%2B05:30\" title=\"UTC+05:30\">\n",
      "     UTC+05:30\n",
      "    </a>\n",
      "    (\n",
      "    <a href=\"/wiki/Indian_Standard_Time\" title=\"Indian Standard Time\">\n",
      "     IST\n",
      "    </a>\n",
      "    )\n",
      "   </td>\n",
      "  </tr>\n",
      "  <tr class=\"mergedtoprow\">\n",
      "   <th scope=\"row\">\n",
      "    <a href=\"/wiki/ISO_3166\" title=\"ISO 3166\">\n",
      "     ISO 3166 code\n",
      "    </a>\n",
      "   </th>\n",
      "   <td class=\"nickname\">\n",
      "    <a href=\"/wiki/ISO_3166-2:IN\" title=\"ISO 3166-2:IN\">\n",
      "     IN-MH\n",
      "    </a>\n",
      "   </td>\n",
      "  </tr>\n",
      "  <tr class=\"mergedrow\">\n",
      "   <th scope=\"row\">\n",
      "    <a href=\"/wiki/Vehicle_registration_plate\" title=\"Vehicle registration plate\">\n",
      "     Vehicle registration\n",
      "    </a>\n",
      "   </th>\n",
      "   <td>\n",
      "    <a class=\"mw-redirect\" href=\"/wiki/List_of_RTO_districts_in_India#MH—Maharashtra\" title=\"List of RTO districts in India\">\n",
      "     MH\n",
      "    </a>\n",
      "   </td>\n",
      "  </tr>\n",
      "  <tr class=\"mergedtoprow\">\n",
      "   <th scope=\"row\">\n",
      "    <a class=\"mw-redirect\" href=\"/wiki/Official_languages\" title=\"Official languages\">\n",
      "     Official languages\n",
      "    </a>\n",
      "   </th>\n",
      "   <td>\n",
      "    <a href=\"/wiki/Marathi_language\" title=\"Marathi language\">\n",
      "     Marathi\n",
      "    </a>\n",
      "    <sup class=\"reference\" id=\"cite_ref-auto_4-0\">\n",
      "     <a href=\"#cite_note-auto-4\">\n",
      "      [4]\n",
      "     </a>\n",
      "    </sup>\n",
      "    <sup class=\"reference\" id=\"cite_ref-nclmanurep2010_5-0\">\n",
      "     <a href=\"#cite_note-nclmanurep2010-5\">\n",
      "      [5]\n",
      "     </a>\n",
      "    </sup>\n",
      "   </td>\n",
      "  </tr>\n",
      "  <tr class=\"mergedtoprow\">\n",
      "   <th scope=\"row\">\n",
      "    <a href=\"/wiki/Human_Development_Index\" title=\"Human Development Index\">\n",
      "     HDI\n",
      "    </a>\n",
      "    <link href=\"mw-data:TemplateStyles:r886047488\" rel=\"mw-deduplicated-inline-style\"/>\n",
      "    <span class=\"nobold\">\n",
      "     (2017)\n",
      "    </span>\n",
      "   </th>\n",
      "   <td>\n",
      "    <img alt=\"Increase\" data-file-height=\"300\" data-file-width=\"300\" decoding=\"async\" height=\"11\" src=\"//upload.wikimedia.org/wikipedia/commons/thumb/b/b0/Increase2.svg/11px-Increase2.svg.png\" srcset=\"//upload.wikimedia.org/wikipedia/commons/thumb/b/b0/Increase2.svg/17px-Increase2.svg.png 1.5x, //upload.wikimedia.org/wikipedia/commons/thumb/b/b0/Increase2.svg/22px-Increase2.svg.png 2x\" title=\"Increase\" width=\"11\"/>\n",
      "    0.695\n",
      "    <sup class=\"reference\" id=\"cite_ref-GlobalDataLab_6-0\">\n",
      "     <a href=\"#cite_note-GlobalDataLab-6\">\n",
      "      [6]\n",
      "     </a>\n",
      "    </sup>\n",
      "    (\n",
      "    <span style=\"color:#fc0\">\n",
      "     medium\n",
      "    </span>\n",
      "    ) ·\n",
      "    <a href=\"/wiki/List_of_Indian_states_and_territories_by_Human_Development_Index\" title=\"List of Indian states and territories by Human Development Index\">\n",
      "     15th\n",
      "    </a>\n",
      "   </td>\n",
      "  </tr>\n",
      "  <tr class=\"mergedrow\">\n",
      "   <th scope=\"row\">\n",
      "    <a href=\"/wiki/Literacy_in_India\" title=\"Literacy in India\">\n",
      "     Literacy\n",
      "    </a>\n",
      "    <link href=\"mw-data:TemplateStyles:r886047488\" rel=\"mw-deduplicated-inline-style\"/>\n",
      "    <span class=\"nobold\">\n",
      "     (2011)\n",
      "    </span>\n",
      "   </th>\n",
      "   <td>\n",
      "    82.34%\n",
      "    <sup class=\"reference\" id=\"cite_ref-pc-census2011_7-0\">\n",
      "     <a href=\"#cite_note-pc-census2011-7\">\n",
      "      [7]\n",
      "     </a>\n",
      "    </sup>\n",
      "   </td>\n",
      "  </tr>\n",
      "  <tr class=\"mergedrow\">\n",
      "   <th scope=\"row\">\n",
      "    <a href=\"/wiki/Human_sex_ratio\" title=\"Human sex ratio\">\n",
      "     Sex ratio\n",
      "    </a>\n",
      "    <link href=\"mw-data:TemplateStyles:r886047488\" rel=\"mw-deduplicated-inline-style\"/>\n",
      "    <span class=\"nobold\">\n",
      "     (2011)\n",
      "    </span>\n",
      "   </th>\n",
      "   <td>\n",
      "    929\n",
      "    <a href=\"/wiki/Female\" title=\"Female\">\n",
      "     ♀\n",
      "    </a>\n",
      "    /1000\n",
      "    <a href=\"/wiki/Male\" title=\"Male\">\n",
      "     ♂\n",
      "    </a>\n",
      "    <sup class=\"reference\" id=\"cite_ref-pc-census2011_7-1\">\n",
      "     <a href=\"#cite_note-pc-census2011-7\">\n",
      "      [7]\n",
      "     </a>\n",
      "    </sup>\n",
      "   </td>\n",
      "  </tr>\n",
      "  <tr class=\"mergedtoprow\">\n",
      "   <th scope=\"row\">\n",
      "    Website\n",
      "   </th>\n",
      "   <td>\n",
      "    <a class=\"external text\" href=\"http://www.maharashtra.gov.in/\" rel=\"nofollow\">\n",
      "     Maharashtra.gov.in\n",
      "    </a>\n",
      "   </td>\n",
      "  </tr>\n",
      "  <tr>\n",
      "   <td class=\"maptable\" colspan=\"2\" style=\"text-align:center\">\n",
      "    <table style=\"padding:0;border:none;margin:-3px;width:auto;min-width:100%;font-size:100%;clear:none;float:none;background-color:transparent\">\n",
      "     <tbody>\n",
      "      <tr>\n",
      "       <td colspan=\"2\" style=\"text-align:center\">\n",
      "       </td>\n",
      "      </tr>\n",
      "      <tr>\n",
      "       <td colspan=\"2\" style=\"text-align:center;background-color: #cddeff; font-weight: bold\">\n",
      "        Symbols of Maharashtra\n",
      "       </td>\n",
      "      </tr>\n",
      "      <tr class=\"mergedtoprow\">\n",
      "       <th scope=\"row\">\n",
      "        <a href=\"/wiki/List_of_Indian_state_emblems\" title=\"List of Indian state emblems\">\n",
      "         Emblem\n",
      "        </a>\n",
      "       </th>\n",
      "       <td>\n",
      "        <div class=\"floatleft\">\n",
      "         <a class=\"image\" href=\"/wiki/File:Seal_of_Maharashtra.png\">\n",
      "          <img alt=\"Seal of Maharashtra.png\" data-file-height=\"400\" data-file-width=\"398\" decoding=\"async\" height=\"40\" src=\"//upload.wikimedia.org/wikipedia/commons/thumb/2/26/Seal_of_Maharashtra.png/40px-Seal_of_Maharashtra.png\" srcset=\"//upload.wikimedia.org/wikipedia/commons/thumb/2/26/Seal_of_Maharashtra.png/60px-Seal_of_Maharashtra.png 1.5x, //upload.wikimedia.org/wikipedia/commons/thumb/2/26/Seal_of_Maharashtra.png/80px-Seal_of_Maharashtra.png 2x\" width=\"40\"/>\n",
      "         </a>\n",
      "        </div>\n",
      "        <a href=\"/wiki/Emblem_of_Maharashtra\" title=\"Emblem of Maharashtra\">\n",
      "         Emblem of Maharashtra\n",
      "        </a>\n",
      "       </td>\n",
      "      </tr>\n",
      "      <tr class=\"mergedrow\">\n",
      "       <th scope=\"row\">\n",
      "        <a href=\"/wiki/List_of_Indian_state_songs\" title=\"List of Indian state songs\">\n",
      "         Song\n",
      "        </a>\n",
      "       </th>\n",
      "       <td>\n",
      "        \"\n",
      "        <a href=\"/wiki/Jai_Jai_Maharashtra_Maza\" title=\"Jai Jai Maharashtra Maza\">\n",
      "         Jai Jai Maharashtra Maza\n",
      "        </a>\n",
      "        \" by\n",
      "        <a href=\"/wiki/Raja_Badhe\" title=\"Raja Badhe\">\n",
      "         Raja Badhe\n",
      "        </a>\n",
      "        <sup class=\"reference\" id=\"cite_ref-8\">\n",
      "         <a href=\"#cite_note-8\">\n",
      "          [8]\n",
      "         </a>\n",
      "        </sup>\n",
      "       </td>\n",
      "      </tr>\n",
      "      <tr class=\"mergedrow\">\n",
      "       <th scope=\"row\">\n",
      "        <a href=\"/wiki/Languages_with_official_status_in_India\" title=\"Languages with official status in India\">\n",
      "         Language\n",
      "        </a>\n",
      "       </th>\n",
      "       <td>\n",
      "        <div class=\"floatleft\">\n",
      "         <a class=\"image\" href=\"/wiki/File:Marathi_written_in_Devanagari_script.svg\">\n",
      "          <img alt=\"Marathi written in Devanagari script.svg\" data-file-height=\"139\" data-file-width=\"300\" decoding=\"async\" height=\"19\" src=\"//upload.wikimedia.org/wikipedia/commons/thumb/7/74/Marathi_written_in_Devanagari_script.svg/40px-Marathi_written_in_Devanagari_script.svg.png\" srcset=\"//upload.wikimedia.org/wikipedia/commons/thumb/7/74/Marathi_written_in_Devanagari_script.svg/60px-Marathi_written_in_Devanagari_script.svg.png 1.5x, //upload.wikimedia.org/wikipedia/commons/thumb/7/74/Marathi_written_in_Devanagari_script.svg/80px-Marathi_written_in_Devanagari_script.svg.png 2x\" width=\"40\"/>\n",
      "         </a>\n",
      "        </div>\n",
      "        <a href=\"/wiki/Marathi_language\" title=\"Marathi language\">\n",
      "         Marathi\n",
      "        </a>\n",
      "       </td>\n",
      "      </tr>\n",
      "      <tr class=\"mergedrow\">\n",
      "       <th scope=\"row\">\n",
      "        <a href=\"/wiki/List_of_Indian_state_animals\" title=\"List of Indian state animals\">\n",
      "         Mammal\n",
      "        </a>\n",
      "       </th>\n",
      "       <td>\n",
      "        <div class=\"floatleft\">\n",
      "         <a class=\"image\" href=\"/wiki/File:Ratufa_indica_(Bhadra,_2006).jpg\">\n",
      "          <img alt=\"Ratufa indica (Bhadra, 2006).jpg\" data-file-height=\"2220\" data-file-width=\"1480\" decoding=\"async\" height=\"60\" src=\"//upload.wikimedia.org/wikipedia/commons/thumb/1/10/Ratufa_indica_%28Bhadra%2C_2006%29.jpg/40px-Ratufa_indica_%28Bhadra%2C_2006%29.jpg\" srcset=\"//upload.wikimedia.org/wikipedia/commons/thumb/1/10/Ratufa_indica_%28Bhadra%2C_2006%29.jpg/60px-Ratufa_indica_%28Bhadra%2C_2006%29.jpg 1.5x, //upload.wikimedia.org/wikipedia/commons/thumb/1/10/Ratufa_indica_%28Bhadra%2C_2006%29.jpg/80px-Ratufa_indica_%28Bhadra%2C_2006%29.jpg 2x\" width=\"40\"/>\n",
      "         </a>\n",
      "        </div>\n",
      "        <a href=\"/wiki/Indian_giant_squirrel\" title=\"Indian giant squirrel\">\n",
      "         Indian giant squirrel\n",
      "        </a>\n",
      "       </td>\n",
      "      </tr>\n",
      "      <tr class=\"mergedrow\">\n",
      "       <th scope=\"row\">\n",
      "        <a href=\"/wiki/List_of_Indian_state_birds\" title=\"List of Indian state birds\">\n",
      "         Bird\n",
      "        </a>\n",
      "       </th>\n",
      "       <td>\n",
      "        <div class=\"floatleft\">\n",
      "         <a class=\"image\" href=\"/wiki/File:Yellow-footed_green_pigeon_(Treron_phoenicoptera)_Photograph_by_Shantanu_Kuveskar.jpg\">\n",
      "          <img alt=\"Yellow-footed green pigeon (Treron phoenicoptera) Photograph by Shantanu Kuveskar.jpg\" data-file-height=\"480\" data-file-width=\"640\" decoding=\"async\" height=\"30\" src=\"//upload.wikimedia.org/wikipedia/commons/thumb/7/79/Yellow-footed_green_pigeon_%28Treron_phoenicoptera%29_Photograph_by_Shantanu_Kuveskar.jpg/40px-Yellow-footed_green_pigeon_%28Treron_phoenicoptera%29_Photograph_by_Shantanu_Kuveskar.jpg\" srcset=\"//upload.wikimedia.org/wikipedia/commons/thumb/7/79/Yellow-footed_green_pigeon_%28Treron_phoenicoptera%29_Photograph_by_Shantanu_Kuveskar.jpg/60px-Yellow-footed_green_pigeon_%28Treron_phoenicoptera%29_Photograph_by_Shantanu_Kuveskar.jpg 1.5x, //upload.wikimedia.org/wikipedia/commons/thumb/7/79/Yellow-footed_green_pigeon_%28Treron_phoenicoptera%29_Photograph_by_Shantanu_Kuveskar.jpg/80px-Yellow-footed_green_pigeon_%28Treron_phoenicoptera%29_Photograph_by_Shantanu_Kuveskar.jpg 2x\" width=\"40\"/>\n",
      "         </a>\n",
      "        </div>\n",
      "        <a href=\"/wiki/Yellow-footed_green_pigeon\" title=\"Yellow-footed green pigeon\">\n",
      "         Yellow-footed green pigeon\n",
      "        </a>\n",
      "       </td>\n",
      "      </tr>\n",
      "      <tr class=\"mergedrow\">\n",
      "       <th scope=\"row\">\n",
      "        Insect\n",
      "       </th>\n",
      "       <td>\n",
      "        <div class=\"floatleft\">\n",
      "         <a class=\"image\" href=\"/wiki/File:Papilio_polymnestor-Kadavoor-2016-07-27-002.jpg\">\n",
      "          <img alt=\"Papilio polymnestor-Kadavoor-2016-07-27-002.jpg\" data-file-height=\"4000\" data-file-width=\"6000\" decoding=\"async\" height=\"27\" src=\"//upload.wikimedia.org/wikipedia/commons/thumb/2/2b/Papilio_polymnestor-Kadavoor-2016-07-27-002.jpg/40px-Papilio_polymnestor-Kadavoor-2016-07-27-002.jpg\" srcset=\"//upload.wikimedia.org/wikipedia/commons/thumb/2/2b/Papilio_polymnestor-Kadavoor-2016-07-27-002.jpg/60px-Papilio_polymnestor-Kadavoor-2016-07-27-002.jpg 1.5x, //upload.wikimedia.org/wikipedia/commons/thumb/2/2b/Papilio_polymnestor-Kadavoor-2016-07-27-002.jpg/80px-Papilio_polymnestor-Kadavoor-2016-07-27-002.jpg 2x\" width=\"40\"/>\n",
      "         </a>\n",
      "        </div>\n",
      "        <a href=\"/wiki/Papilio_polymnestor\" title=\"Papilio polymnestor\">\n",
      "         Blue Mormon\n",
      "        </a>\n",
      "       </td>\n",
      "      </tr>\n",
      "      <tr class=\"mergedrow\">\n",
      "       <th scope=\"row\">\n",
      "        <a href=\"/wiki/List_of_Indian_state_flowers\" title=\"List of Indian state flowers\">\n",
      "         Flower\n",
      "        </a>\n",
      "       </th>\n",
      "       <td>\n",
      "        <div class=\"floatleft\">\n",
      "         <a class=\"image\" href=\"/wiki/File:Jarul.jpg\">\n",
      "          <img alt=\"Jarul.jpg\" data-file-height=\"600\" data-file-width=\"800\" decoding=\"async\" height=\"30\" src=\"//upload.wikimedia.org/wikipedia/commons/thumb/1/1e/Jarul.jpg/40px-Jarul.jpg\" srcset=\"//upload.wikimedia.org/wikipedia/commons/thumb/1/1e/Jarul.jpg/60px-Jarul.jpg 1.5x, //upload.wikimedia.org/wikipedia/commons/thumb/1/1e/Jarul.jpg/80px-Jarul.jpg 2x\" width=\"40\"/>\n",
      "         </a>\n",
      "        </div>\n",
      "        <a href=\"/wiki/Lagerstroemia_speciosa\" title=\"Lagerstroemia speciosa\">\n",
      "         Jarul\n",
      "        </a>\n",
      "       </td>\n",
      "      </tr>\n",
      "      <tr class=\"mergedrow\">\n",
      "       <th scope=\"row\">\n",
      "        <a href=\"/wiki/List_of_Indian_state_trees\" title=\"List of Indian state trees\">\n",
      "         Tree\n",
      "        </a>\n",
      "       </th>\n",
      "       <td>\n",
      "        <div class=\"floatleft\">\n",
      "         <a class=\"image\" href=\"/wiki/File:Mangifera_indica_2z_.jpg\">\n",
      "          <img alt=\"Mangifera indica 2z .jpg\" data-file-height=\"962\" data-file-width=\"1280\" decoding=\"async\" height=\"30\" src=\"//upload.wikimedia.org/wikipedia/commons/thumb/5/56/Mangifera_indica_2z_.jpg/40px-Mangifera_indica_2z_.jpg\" srcset=\"//upload.wikimedia.org/wikipedia/commons/thumb/5/56/Mangifera_indica_2z_.jpg/60px-Mangifera_indica_2z_.jpg 1.5x, //upload.wikimedia.org/wikipedia/commons/thumb/5/56/Mangifera_indica_2z_.jpg/80px-Mangifera_indica_2z_.jpg 2x\" width=\"40\"/>\n",
      "         </a>\n",
      "        </div>\n",
      "        <a href=\"/wiki/Mangifera_indica\" title=\"Mangifera indica\">\n",
      "         Mango Tree\n",
      "        </a>\n",
      "       </td>\n",
      "      </tr>\n",
      "      <tr>\n",
      "       <td colspan=\"2\">\n",
      "       </td>\n",
      "      </tr>\n",
      "     </tbody>\n",
      "    </table>\n",
      "   </td>\n",
      "  </tr>\n",
      "  <tr>\n",
      "   <td colspan=\"2\" style=\"text-align:center;text-align:left;\">\n",
      "    <sup class=\"reference plainlinks nourlexpansion\" id=\"ref_cap\">\n",
      "     <a href=\"#endnote_cap\">\n",
      "      †\n",
      "     </a>\n",
      "    </sup>\n",
      "    The\n",
      "    <a href=\"/wiki/Bombay_State\" title=\"Bombay State\">\n",
      "     State of Bombay\n",
      "    </a>\n",
      "    was split into two States i.e. Maharashtra and Gujarat by the\n",
      "    <i>\n",
      "     Bombay Reorganisation Act 1960\n",
      "    </i>\n",
      "    <sup class=\"reference\" id=\"cite_ref-9\">\n",
      "     <a href=\"#cite_note-9\">\n",
      "      [9]\n",
      "     </a>\n",
      "    </sup>\n",
      "    <br/>\n",
      "    <sup class=\"reference plainlinks nourlexpansion\" id=\"ref_cap\">\n",
      "     <a href=\"#endnote_cap\">\n",
      "      ††\n",
      "     </a>\n",
      "    </sup>\n",
      "    Common high court\n",
      "   </td>\n",
      "  </tr>\n",
      " </tbody>\n",
      "</table>\n",
      "\n"
     ]
    }
   ],
   "source": [
    "print(soup.find('table').prettify())"
   ]
  },
  {
   "cell_type": "code",
   "execution_count": 13,
   "metadata": {},
   "outputs": [],
   "source": [
    "first_table=soup.find('table')"
   ]
  },
  {
   "cell_type": "code",
   "execution_count": 14,
   "metadata": {},
   "outputs": [
    {
     "data": {
      "text/plain": [
       "bs4.element.Tag"
      ]
     },
     "execution_count": 14,
     "metadata": {},
     "output_type": "execute_result"
    }
   ],
   "source": [
    "type(first_table)"
   ]
  },
  {
   "cell_type": "code",
   "execution_count": 15,
   "metadata": {},
   "outputs": [
    {
     "data": {
      "text/plain": [
       "'Maharashtra'"
      ]
     },
     "execution_count": 15,
     "metadata": {},
     "output_type": "execute_result"
    }
   ],
   "source": [
    "first_table.find('th').text"
   ]
  },
  {
   "cell_type": "code",
   "execution_count": 16,
   "metadata": {},
   "outputs": [
    {
     "data": {
      "text/plain": [
       "'State'"
      ]
     },
     "execution_count": 16,
     "metadata": {},
     "output_type": "execute_result"
    }
   ],
   "source": [
    "first_table.find('td').text"
   ]
  },
  {
   "cell_type": "code",
   "execution_count": 17,
   "metadata": {},
   "outputs": [
    {
     "data": {
      "text/plain": [
       "'Maharashtra'"
      ]
     },
     "execution_count": 17,
     "metadata": {},
     "output_type": "execute_result"
    }
   ],
   "source": [
    "state=soup.find('table').find('th').text\n",
    "state"
   ]
  },
  {
   "cell_type": "code",
   "execution_count": 18,
   "metadata": {},
   "outputs": [
    {
     "name": "stdout",
     "output_type": "stream",
     "text": [
      "Maharashtra\n",
      "State\n",
      "\n",
      "From top, left to right: Pratapgad Fort (near Mahabaleshwar) located in the Western Ghats, Chhatrapati Shivaji Maharaj Terminus, Painting of Padmapani at Ajanta Caves, Kailasa Temple at Ellora Caves, The Gateway of India, Trimurti sculpture of Elephanta Caves, Shaniwar Wada Fort and Hazur Sahib Nanded\n",
      "\n",
      "Emblem\n",
      "Location of Maharashtra in India\n",
      "Coordinates (Mumbai): .mw-parser-output .geo-default,.mw-parser-output .geo-dms,.mw-parser-output .geo-dec{display:inline}.mw-parser-output .geo-nondefault,.mw-parser-output .geo-multi-punct{display:none}.mw-parser-output .longitude,.mw-parser-output .latitude{white-space:nowrap}18°58′12″N 72°49′12″E﻿ / ﻿18.97°N 72.820°E﻿ / 18.97; 72.820Coordinates: 18°58′12″N 72°49′12″E﻿ / ﻿18.97°N 72.820°E﻿ / 18.97; 72.820\n",
      "Country India\n",
      "Formation1 May 1960^ (Maharashtra Day)\n",
      "CapitalsMumbaiNagpur (Winter)[1]\n",
      "Districts36\n"
     ]
    }
   ],
   "source": [
    "for row in soup.find('table').find_all('tr')[:10]:\n",
    "    print(row.text)"
   ]
  },
  {
   "cell_type": "code",
   "execution_count": 19,
   "metadata": {},
   "outputs": [
    {
     "data": {
      "text/plain": [
       "<td><a href=\"/wiki/Bhagat_Singh_Koshyari\" title=\"Bhagat Singh Koshyari\">Bhagat Singh Koshyari</a></td>"
      ]
     },
     "execution_count": 19,
     "metadata": {},
     "output_type": "execute_result"
    }
   ],
   "source": [
    "soup.find('table').find_all('td')[10]"
   ]
  },
  {
   "cell_type": "code",
   "execution_count": 20,
   "metadata": {},
   "outputs": [
    {
     "data": {
      "text/plain": [
       "'Formation'"
      ]
     },
     "execution_count": 20,
     "metadata": {},
     "output_type": "execute_result"
    }
   ],
   "source": [
    "soup.find(text='Formation')"
   ]
  },
  {
   "cell_type": "code",
   "execution_count": 21,
   "metadata": {},
   "outputs": [
    {
     "data": {
      "text/plain": [
       "bs4.element.NavigableString"
      ]
     },
     "execution_count": 21,
     "metadata": {},
     "output_type": "execute_result"
    }
   ],
   "source": [
    "formatted=soup.find(text='Formation')\n",
    "type(formatted)"
   ]
  },
  {
   "cell_type": "code",
   "execution_count": 22,
   "metadata": {},
   "outputs": [
    {
     "data": {
      "text/plain": [
       "<td>1 May 1960<sup class=\"reference plainlinks nourlexpansion\" id=\"ref_cap\"><a href=\"#endnote_cap\">^</a></sup> <span class=\"nowrap\">(<a href=\"/wiki/Maharashtra_Day\" title=\"Maharashtra Day\">Maharashtra Day</a>)</span></td>"
      ]
     },
     "execution_count": 22,
     "metadata": {},
     "output_type": "execute_result"
    }
   ],
   "source": [
    "formatted.next"
   ]
  },
  {
   "cell_type": "code",
   "execution_count": 23,
   "metadata": {},
   "outputs": [
    {
     "data": {
      "text/plain": [
       "'1 May 1960^ (Maharashtra Day)'"
      ]
     },
     "execution_count": 23,
     "metadata": {},
     "output_type": "execute_result"
    }
   ],
   "source": [
    "formatted.next.text"
   ]
  },
  {
   "cell_type": "code",
   "execution_count": 24,
   "metadata": {},
   "outputs": [
    {
     "data": {
      "text/plain": [
       "<th scope=\"row\">Formation</th>"
      ]
     },
     "execution_count": 24,
     "metadata": {},
     "output_type": "execute_result"
    }
   ],
   "source": [
    "formatted.parent"
   ]
  },
  {
   "cell_type": "markdown",
   "metadata": {},
   "source": [
    "# Extract Capital of Maharashtra"
   ]
  },
  {
   "cell_type": "code",
   "execution_count": 25,
   "metadata": {},
   "outputs": [
    {
     "data": {
      "text/plain": [
       "'MumbaiNagpur (Winter)[1]'"
      ]
     },
     "execution_count": 25,
     "metadata": {},
     "output_type": "execute_result"
    }
   ],
   "source": [
    "capital=soup.find(text='Capitals').next.text\n",
    "capital"
   ]
  },
  {
   "cell_type": "markdown",
   "metadata": {},
   "source": [
    "# Data Preparation"
   ]
  },
  {
   "cell_type": "code",
   "execution_count": 26,
   "metadata": {},
   "outputs": [
    {
     "data": {
      "text/plain": [
       "'1 May 1960^ (Maharashtra Day)'"
      ]
     },
     "execution_count": 26,
     "metadata": {},
     "output_type": "execute_result"
    }
   ],
   "source": [
    "formation_day=formatted.next.text\n",
    "formation_day"
   ]
  },
  {
   "cell_type": "code",
   "execution_count": 27,
   "metadata": {},
   "outputs": [
    {
     "data": {
      "text/plain": [
       "['1', 'May', '1960^']"
      ]
     },
     "execution_count": 27,
     "metadata": {},
     "output_type": "execute_result"
    }
   ],
   "source": [
    "formation_day=formation_day.split(' ')[:-2]\n",
    "formation_day"
   ]
  },
  {
   "cell_type": "code",
   "execution_count": 28,
   "metadata": {},
   "outputs": [
    {
     "data": {
      "text/plain": [
       "'1 May 1960^'"
      ]
     },
     "execution_count": 28,
     "metadata": {},
     "output_type": "execute_result"
    }
   ],
   "source": [
    "formation_day=' '.join(formation_day)\n",
    "formation_day"
   ]
  },
  {
   "cell_type": "code",
   "execution_count": 29,
   "metadata": {},
   "outputs": [],
   "source": [
    "import unicodedata"
   ]
  },
  {
   "cell_type": "code",
   "execution_count": 30,
   "metadata": {},
   "outputs": [],
   "source": [
    "def remove_accented_chars(x):\n",
    "    x=unicodedata.normalize('NFKD',x).encode('ascii','ignore').decode('utf-8','ignore')\n",
    "    return x"
   ]
  },
  {
   "cell_type": "code",
   "execution_count": 31,
   "metadata": {},
   "outputs": [
    {
     "data": {
      "text/plain": [
       "'1 May 1960^'"
      ]
     },
     "execution_count": 31,
     "metadata": {},
     "output_type": "execute_result"
    }
   ],
   "source": [
    "remove_accented_chars(formation_day)"
   ]
  },
  {
   "cell_type": "code",
   "execution_count": 32,
   "metadata": {},
   "outputs": [
    {
     "data": {
      "text/plain": [
       "['1', 'May', '1960^']"
      ]
     },
     "execution_count": 32,
     "metadata": {},
     "output_type": "execute_result"
    }
   ],
   "source": [
    "formation_day.split(' ')"
   ]
  },
  {
   "cell_type": "code",
   "execution_count": 33,
   "metadata": {},
   "outputs": [
    {
     "data": {
      "text/plain": [
       "'1 May 1960'"
      ]
     },
     "execution_count": 33,
     "metadata": {},
     "output_type": "execute_result"
    }
   ],
   "source": [
    "formation_day=formation_day.replace('1960^','1960')\n",
    "formation_day"
   ]
  },
  {
   "cell_type": "code",
   "execution_count": 34,
   "metadata": {},
   "outputs": [
    {
     "data": {
      "text/plain": [
       "str"
      ]
     },
     "execution_count": 34,
     "metadata": {},
     "output_type": "execute_result"
    }
   ],
   "source": [
    "type(formation_day)"
   ]
  },
  {
   "cell_type": "code",
   "execution_count": 38,
   "metadata": {},
   "outputs": [],
   "source": [
    "import dateutil.parser"
   ]
  },
  {
   "cell_type": "code",
   "execution_count": 39,
   "metadata": {},
   "outputs": [
    {
     "data": {
      "text/plain": [
       "datetime.datetime(1960, 5, 1, 0, 0)"
      ]
     },
     "execution_count": 39,
     "metadata": {},
     "output_type": "execute_result"
    }
   ],
   "source": [
    "formation_day=dateutil.parser.parse(formation_day)\n",
    "formation_day"
   ]
  },
  {
   "cell_type": "code",
   "execution_count": 40,
   "metadata": {},
   "outputs": [
    {
     "data": {
      "text/plain": [
       "1960"
      ]
     },
     "execution_count": 40,
     "metadata": {},
     "output_type": "execute_result"
    }
   ],
   "source": [
    "formation_day.year"
   ]
  },
  {
   "cell_type": "markdown",
   "metadata": {},
   "source": [
    "# Population and Area"
   ]
  },
  {
   "cell_type": "code",
   "execution_count": 41,
   "metadata": {},
   "outputs": [
    {
     "data": {
      "text/plain": [
       "'\\xa0•\\xa0Total'"
      ]
     },
     "execution_count": 41,
     "metadata": {},
     "output_type": "execute_result"
    }
   ],
   "source": [
    "import re\n",
    "soup.find(text=re.compile('Total'))"
   ]
  },
  {
   "cell_type": "code",
   "execution_count": 42,
   "metadata": {},
   "outputs": [
    {
     "data": {
      "text/plain": [
       "<td>307,713 km<sup>2</sup> (118,809 sq mi)</td>"
      ]
     },
     "execution_count": 42,
     "metadata": {},
     "output_type": "execute_result"
    }
   ],
   "source": [
    "area_text=soup.find(text=re.compile('Total')).next\n",
    "area_text"
   ]
  },
  {
   "cell_type": "code",
   "execution_count": 43,
   "metadata": {},
   "outputs": [
    {
     "data": {
      "text/plain": [
       "<th colspan=\"2\" style=\"text-align:center;text-align:left\">Population<div style=\"font-weight:normal;display:inline;\"><span class=\"nowrap\"> </span>(2011)<sup class=\"reference\" id=\"cite_ref-GOI_2011_2-0\"><a href=\"#cite_note-GOI_2011-2\">[2]</a></sup></div></th>"
      ]
     },
     "execution_count": 43,
     "metadata": {},
     "output_type": "execute_result"
    }
   ],
   "source": [
    "soup.find(text='Population').parent"
   ]
  },
  {
   "cell_type": "code",
   "execution_count": 44,
   "metadata": {},
   "outputs": [
    {
     "data": {
      "text/plain": [
       "<tr class=\"mergedtoprow\"><th colspan=\"2\" style=\"text-align:center;text-align:left\">Population<div style=\"font-weight:normal;display:inline;\"><span class=\"nowrap\"> </span>(2011)<sup class=\"reference\" id=\"cite_ref-GOI_2011_2-0\"><a href=\"#cite_note-GOI_2011-2\">[2]</a></sup></div></th></tr>"
      ]
     },
     "execution_count": 44,
     "metadata": {},
     "output_type": "execute_result"
    }
   ],
   "source": [
    "soup.find(text='Population').parent.parent"
   ]
  },
  {
   "cell_type": "code",
   "execution_count": 45,
   "metadata": {},
   "outputs": [
    {
     "data": {
      "text/plain": [
       "<tr class=\"mergedrow\"><th scope=\"row\"> • Total</th><td>112,374,333</td></tr>"
      ]
     },
     "execution_count": 45,
     "metadata": {},
     "output_type": "execute_result"
    }
   ],
   "source": [
    "soup.find(text='Population').parent.parent.next_sibling"
   ]
  },
  {
   "cell_type": "code",
   "execution_count": 46,
   "metadata": {},
   "outputs": [
    {
     "data": {
      "text/plain": [
       "<td>112,374,333</td>"
      ]
     },
     "execution_count": 46,
     "metadata": {},
     "output_type": "execute_result"
    }
   ],
   "source": [
    "soup.find(text='Population').parent.parent.next_sibling.find('td')"
   ]
  },
  {
   "cell_type": "code",
   "execution_count": 47,
   "metadata": {},
   "outputs": [
    {
     "data": {
      "text/plain": [
       "'112,374,333'"
      ]
     },
     "execution_count": 47,
     "metadata": {},
     "output_type": "execute_result"
    }
   ],
   "source": [
    "population=soup.find(text='Population').parent.parent.next_sibling.find('td').text\n",
    "population"
   ]
  },
  {
   "cell_type": "code",
   "execution_count": 48,
   "metadata": {},
   "outputs": [
    {
     "data": {
      "text/plain": [
       "112374333"
      ]
     },
     "execution_count": 48,
     "metadata": {},
     "output_type": "execute_result"
    }
   ],
   "source": [
    "population=int(population.replace(',',''))\n",
    "population"
   ]
  },
  {
   "cell_type": "code",
   "execution_count": 49,
   "metadata": {},
   "outputs": [],
   "source": [
    "def to_int(number_str):\n",
    "    number_str=re.match('[\\d,$]+',number_str)[0]\n",
    "    number_str=number_str.replace('$','').replace(',','')\n",
    "    return int(number_str)"
   ]
  },
  {
   "cell_type": "code",
   "execution_count": 50,
   "metadata": {},
   "outputs": [
    {
     "data": {
      "text/plain": [
       "'307,713\\xa0km2 (118,809\\xa0sq\\xa0mi)'"
      ]
     },
     "execution_count": 50,
     "metadata": {},
     "output_type": "execute_result"
    }
   ],
   "source": [
    "area_text=area_text.text\n",
    "area_text"
   ]
  },
  {
   "cell_type": "code",
   "execution_count": 53,
   "metadata": {},
   "outputs": [],
   "source": [
    "area=to_int(area_text)"
   ]
  },
  {
   "cell_type": "code",
   "execution_count": 54,
   "metadata": {},
   "outputs": [
    {
     "data": {
      "text/plain": [
       "307713"
      ]
     },
     "execution_count": 54,
     "metadata": {},
     "output_type": "execute_result"
    }
   ],
   "source": [
    "area"
   ]
  },
  {
   "cell_type": "markdown",
   "metadata": {},
   "source": [
    "# Data Stoarage"
   ]
  },
  {
   "cell_type": "code",
   "execution_count": 57,
   "metadata": {},
   "outputs": [],
   "source": [
    "mah_dict={\n",
    "    'state': state,\n",
    "    'formation_day':formation_day,\n",
    "    'population':population,\n",
    "    'area_sq_km':area\n",
    "}"
   ]
  },
  {
   "cell_type": "code",
   "execution_count": 58,
   "metadata": {},
   "outputs": [
    {
     "data": {
      "text/plain": [
       "{'state': 'Maharashtra',\n",
       " 'formation_day': datetime.datetime(1960, 5, 1, 0, 0),\n",
       " 'population': 112374333,\n",
       " 'area_sq_km': 307713}"
      ]
     },
     "execution_count": 58,
     "metadata": {},
     "output_type": "execute_result"
    }
   ],
   "source": [
    "mah_dict"
   ]
  },
  {
   "cell_type": "code",
   "execution_count": 59,
   "metadata": {},
   "outputs": [],
   "source": [
    "import pandas as pd"
   ]
  },
  {
   "cell_type": "code",
   "execution_count": 60,
   "metadata": {},
   "outputs": [],
   "source": [
    "mah_info=[mah_dict]"
   ]
  },
  {
   "cell_type": "code",
   "execution_count": 61,
   "metadata": {},
   "outputs": [
    {
     "data": {
      "text/html": [
       "<div>\n",
       "<style scoped>\n",
       "    .dataframe tbody tr th:only-of-type {\n",
       "        vertical-align: middle;\n",
       "    }\n",
       "\n",
       "    .dataframe tbody tr th {\n",
       "        vertical-align: top;\n",
       "    }\n",
       "\n",
       "    .dataframe thead th {\n",
       "        text-align: right;\n",
       "    }\n",
       "</style>\n",
       "<table border=\"1\" class=\"dataframe\">\n",
       "  <thead>\n",
       "    <tr style=\"text-align: right;\">\n",
       "      <th></th>\n",
       "      <th>state</th>\n",
       "      <th>formation_day</th>\n",
       "      <th>population</th>\n",
       "      <th>area_sq_km</th>\n",
       "    </tr>\n",
       "  </thead>\n",
       "  <tbody>\n",
       "    <tr>\n",
       "      <th>0</th>\n",
       "      <td>Maharashtra</td>\n",
       "      <td>1960-05-01</td>\n",
       "      <td>112374333</td>\n",
       "      <td>307713</td>\n",
       "    </tr>\n",
       "  </tbody>\n",
       "</table>\n",
       "</div>"
      ],
      "text/plain": [
       "         state formation_day  population  area_sq_km\n",
       "0  Maharashtra    1960-05-01   112374333      307713"
      ]
     },
     "execution_count": 61,
     "metadata": {},
     "output_type": "execute_result"
    }
   ],
   "source": [
    "mah_df=pd.DataFrame(mah_info)\n",
    "mah_df"
   ]
  },
  {
   "cell_type": "code",
   "execution_count": 62,
   "metadata": {},
   "outputs": [],
   "source": [
    "mah_df.to_csv('Maharashtra_State_Information.csv')"
   ]
  },
  {
   "cell_type": "code",
   "execution_count": null,
   "metadata": {},
   "outputs": [],
   "source": []
  }
 ],
 "metadata": {
  "kernelspec": {
   "display_name": "Python 3",
   "language": "python",
   "name": "python3"
  },
  "language_info": {
   "codemirror_mode": {
    "name": "ipython",
    "version": 3
   },
   "file_extension": ".py",
   "mimetype": "text/x-python",
   "name": "python",
   "nbconvert_exporter": "python",
   "pygments_lexer": "ipython3",
   "version": "3.7.3"
  }
 },
 "nbformat": 4,
 "nbformat_minor": 2
}
